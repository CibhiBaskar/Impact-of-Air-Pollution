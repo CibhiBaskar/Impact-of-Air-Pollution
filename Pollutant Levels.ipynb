{
 "cells": [
  {
   "cell_type": "markdown",
   "metadata": {},
   "source": [
    "# Exploratory Data Analysis on Air Pollutant levels."
   ]
  },
  {
   "cell_type": "code",
   "execution_count": 1,
   "metadata": {},
   "outputs": [],
   "source": [
    "import pandas as pd\n",
    "import matplotlib.pyplot as mp\n",
    "%matplotlib inline"
   ]
  },
  {
   "cell_type": "code",
   "execution_count": 2,
   "metadata": {},
   "outputs": [
    {
     "data": {
      "text/html": [
       "<div>\n",
       "<style scoped>\n",
       "    .dataframe tbody tr th:only-of-type {\n",
       "        vertical-align: middle;\n",
       "    }\n",
       "\n",
       "    .dataframe tbody tr th {\n",
       "        vertical-align: top;\n",
       "    }\n",
       "\n",
       "    .dataframe thead th {\n",
       "        text-align: right;\n",
       "    }\n",
       "</style>\n",
       "<table border=\"1\" class=\"dataframe\">\n",
       "  <thead>\n",
       "    <tr style=\"text-align: right;\">\n",
       "      <th></th>\n",
       "      <th>City</th>\n",
       "      <th>Date</th>\n",
       "      <th>PM2.5</th>\n",
       "      <th>PM10</th>\n",
       "      <th>NO</th>\n",
       "      <th>NO2</th>\n",
       "      <th>NOx</th>\n",
       "      <th>NH3</th>\n",
       "      <th>CO</th>\n",
       "      <th>SO2</th>\n",
       "      <th>O3</th>\n",
       "      <th>Benzene</th>\n",
       "      <th>Toluene</th>\n",
       "      <th>Xylene</th>\n",
       "      <th>AQI</th>\n",
       "      <th>AQI_Bucket</th>\n",
       "    </tr>\n",
       "  </thead>\n",
       "  <tbody>\n",
       "    <tr>\n",
       "      <th>0</th>\n",
       "      <td>Ahmedabad</td>\n",
       "      <td>2015-01-01</td>\n",
       "      <td>NaN</td>\n",
       "      <td>NaN</td>\n",
       "      <td>0.92</td>\n",
       "      <td>18.22</td>\n",
       "      <td>17.15</td>\n",
       "      <td>NaN</td>\n",
       "      <td>0.92</td>\n",
       "      <td>27.64</td>\n",
       "      <td>133.36</td>\n",
       "      <td>0.00</td>\n",
       "      <td>0.02</td>\n",
       "      <td>0.00</td>\n",
       "      <td>NaN</td>\n",
       "      <td>NaN</td>\n",
       "    </tr>\n",
       "    <tr>\n",
       "      <th>1</th>\n",
       "      <td>Ahmedabad</td>\n",
       "      <td>2015-01-02</td>\n",
       "      <td>NaN</td>\n",
       "      <td>NaN</td>\n",
       "      <td>0.97</td>\n",
       "      <td>15.69</td>\n",
       "      <td>16.46</td>\n",
       "      <td>NaN</td>\n",
       "      <td>0.97</td>\n",
       "      <td>24.55</td>\n",
       "      <td>34.06</td>\n",
       "      <td>3.68</td>\n",
       "      <td>5.50</td>\n",
       "      <td>3.77</td>\n",
       "      <td>NaN</td>\n",
       "      <td>NaN</td>\n",
       "    </tr>\n",
       "    <tr>\n",
       "      <th>2</th>\n",
       "      <td>Ahmedabad</td>\n",
       "      <td>2015-01-03</td>\n",
       "      <td>NaN</td>\n",
       "      <td>NaN</td>\n",
       "      <td>17.40</td>\n",
       "      <td>19.30</td>\n",
       "      <td>29.70</td>\n",
       "      <td>NaN</td>\n",
       "      <td>17.40</td>\n",
       "      <td>29.07</td>\n",
       "      <td>30.70</td>\n",
       "      <td>6.80</td>\n",
       "      <td>16.40</td>\n",
       "      <td>2.25</td>\n",
       "      <td>NaN</td>\n",
       "      <td>NaN</td>\n",
       "    </tr>\n",
       "    <tr>\n",
       "      <th>3</th>\n",
       "      <td>Ahmedabad</td>\n",
       "      <td>2015-01-04</td>\n",
       "      <td>NaN</td>\n",
       "      <td>NaN</td>\n",
       "      <td>1.70</td>\n",
       "      <td>18.48</td>\n",
       "      <td>17.97</td>\n",
       "      <td>NaN</td>\n",
       "      <td>1.70</td>\n",
       "      <td>18.59</td>\n",
       "      <td>36.08</td>\n",
       "      <td>4.43</td>\n",
       "      <td>10.14</td>\n",
       "      <td>1.00</td>\n",
       "      <td>NaN</td>\n",
       "      <td>NaN</td>\n",
       "    </tr>\n",
       "    <tr>\n",
       "      <th>4</th>\n",
       "      <td>Ahmedabad</td>\n",
       "      <td>2015-01-05</td>\n",
       "      <td>NaN</td>\n",
       "      <td>NaN</td>\n",
       "      <td>22.10</td>\n",
       "      <td>21.42</td>\n",
       "      <td>37.76</td>\n",
       "      <td>NaN</td>\n",
       "      <td>22.10</td>\n",
       "      <td>39.33</td>\n",
       "      <td>39.31</td>\n",
       "      <td>7.01</td>\n",
       "      <td>18.89</td>\n",
       "      <td>2.78</td>\n",
       "      <td>NaN</td>\n",
       "      <td>NaN</td>\n",
       "    </tr>\n",
       "  </tbody>\n",
       "</table>\n",
       "</div>"
      ],
      "text/plain": [
       "        City        Date  PM2.5  PM10     NO    NO2    NOx  NH3     CO    SO2  \\\n",
       "0  Ahmedabad  2015-01-01    NaN   NaN   0.92  18.22  17.15  NaN   0.92  27.64   \n",
       "1  Ahmedabad  2015-01-02    NaN   NaN   0.97  15.69  16.46  NaN   0.97  24.55   \n",
       "2  Ahmedabad  2015-01-03    NaN   NaN  17.40  19.30  29.70  NaN  17.40  29.07   \n",
       "3  Ahmedabad  2015-01-04    NaN   NaN   1.70  18.48  17.97  NaN   1.70  18.59   \n",
       "4  Ahmedabad  2015-01-05    NaN   NaN  22.10  21.42  37.76  NaN  22.10  39.33   \n",
       "\n",
       "       O3  Benzene  Toluene  Xylene  AQI AQI_Bucket  \n",
       "0  133.36     0.00     0.02    0.00  NaN        NaN  \n",
       "1   34.06     3.68     5.50    3.77  NaN        NaN  \n",
       "2   30.70     6.80    16.40    2.25  NaN        NaN  \n",
       "3   36.08     4.43    10.14    1.00  NaN        NaN  \n",
       "4   39.31     7.01    18.89    2.78  NaN        NaN  "
      ]
     },
     "execution_count": 2,
     "metadata": {},
     "output_type": "execute_result"
    }
   ],
   "source": [
    "data = pd.read_csv(\"Data Sets/Pre Corona Pandemic Datasets/Cities.csv\")\n",
    "df = pd.DataFrame(data)\n",
    "df.head()"
   ]
  },
  {
   "cell_type": "markdown",
   "metadata": {},
   "source": [
    "# Data Preprocessing."
   ]
  },
  {
   "cell_type": "code",
   "execution_count": 3,
   "metadata": {},
   "outputs": [],
   "source": [
    "df['Date'] = pd.to_datetime(df['Date'])"
   ]
  },
  {
   "cell_type": "code",
   "execution_count": 4,
   "metadata": {},
   "outputs": [
    {
     "data": {
      "text/plain": [
       "City                  object\n",
       "Date          datetime64[ns]\n",
       "PM2.5                float64\n",
       "PM10                 float64\n",
       "NO                   float64\n",
       "NO2                  float64\n",
       "NOx                  float64\n",
       "NH3                  float64\n",
       "CO                   float64\n",
       "SO2                  float64\n",
       "O3                   float64\n",
       "Benzene              float64\n",
       "Toluene              float64\n",
       "Xylene               float64\n",
       "AQI                  float64\n",
       "AQI_Bucket            object\n",
       "dtype: object"
      ]
     },
     "execution_count": 4,
     "metadata": {},
     "output_type": "execute_result"
    }
   ],
   "source": [
    "df.dtypes"
   ]
  },
  {
   "cell_type": "markdown",
   "metadata": {},
   "source": [
    "### Performing Descriptive Statistics on the dataset."
   ]
  },
  {
   "cell_type": "code",
   "execution_count": 5,
   "metadata": {},
   "outputs": [
    {
     "name": "stdout",
     "output_type": "stream",
     "text": [
      "<class 'pandas.core.frame.DataFrame'>\n",
      "RangeIndex: 26219 entries, 0 to 26218\n",
      "Data columns (total 16 columns):\n",
      " #   Column      Non-Null Count  Dtype         \n",
      "---  ------      --------------  -----         \n",
      " 0   City        26219 non-null  object        \n",
      " 1   Date        26219 non-null  datetime64[ns]\n",
      " 2   PM2.5       21930 non-null  float64       \n",
      " 3   PM10        15453 non-null  float64       \n",
      " 4   NO          22986 non-null  float64       \n",
      " 5   NO2         23002 non-null  float64       \n",
      " 6   NOx         22176 non-null  float64       \n",
      " 7   NH3         16372 non-null  float64       \n",
      " 8   CO          24258 non-null  float64       \n",
      " 9   SO2         22675 non-null  float64       \n",
      " 10  O3          22559 non-null  float64       \n",
      " 11  Benzene     20932 non-null  float64       \n",
      " 12  Toluene     18664 non-null  float64       \n",
      " 13  Xylene      9412 non-null   float64       \n",
      " 14  AQI         21937 non-null  float64       \n",
      " 15  AQI_Bucket  21937 non-null  object        \n",
      "dtypes: datetime64[ns](1), float64(13), object(2)\n",
      "memory usage: 3.2+ MB\n"
     ]
    },
    {
     "data": {
      "text/html": [
       "<div>\n",
       "<style scoped>\n",
       "    .dataframe tbody tr th:only-of-type {\n",
       "        vertical-align: middle;\n",
       "    }\n",
       "\n",
       "    .dataframe tbody tr th {\n",
       "        vertical-align: top;\n",
       "    }\n",
       "\n",
       "    .dataframe thead th {\n",
       "        text-align: right;\n",
       "    }\n",
       "</style>\n",
       "<table border=\"1\" class=\"dataframe\">\n",
       "  <thead>\n",
       "    <tr style=\"text-align: right;\">\n",
       "      <th></th>\n",
       "      <th>PM2.5</th>\n",
       "      <th>PM10</th>\n",
       "      <th>NO</th>\n",
       "      <th>NO2</th>\n",
       "      <th>NOx</th>\n",
       "      <th>NH3</th>\n",
       "      <th>CO</th>\n",
       "      <th>SO2</th>\n",
       "      <th>O3</th>\n",
       "      <th>Benzene</th>\n",
       "      <th>Toluene</th>\n",
       "      <th>Xylene</th>\n",
       "      <th>AQI</th>\n",
       "    </tr>\n",
       "  </thead>\n",
       "  <tbody>\n",
       "    <tr>\n",
       "      <th>count</th>\n",
       "      <td>21930.000000</td>\n",
       "      <td>15453.000000</td>\n",
       "      <td>22986.000000</td>\n",
       "      <td>23002.000000</td>\n",
       "      <td>22176.000000</td>\n",
       "      <td>16372.000000</td>\n",
       "      <td>24258.000000</td>\n",
       "      <td>22675.000000</td>\n",
       "      <td>22559.000000</td>\n",
       "      <td>20932.000000</td>\n",
       "      <td>18664.000000</td>\n",
       "      <td>9412.000000</td>\n",
       "      <td>21937.000000</td>\n",
       "    </tr>\n",
       "    <tr>\n",
       "      <th>mean</th>\n",
       "      <td>71.828907</td>\n",
       "      <td>125.492380</td>\n",
       "      <td>18.232528</td>\n",
       "      <td>29.009102</td>\n",
       "      <td>33.657667</td>\n",
       "      <td>25.336162</td>\n",
       "      <td>2.446235</td>\n",
       "      <td>14.988734</td>\n",
       "      <td>34.374248</td>\n",
       "      <td>3.300132</td>\n",
       "      <td>9.029794</td>\n",
       "      <td>3.155895</td>\n",
       "      <td>175.840908</td>\n",
       "    </tr>\n",
       "    <tr>\n",
       "      <th>std</th>\n",
       "      <td>67.161387</td>\n",
       "      <td>94.179918</td>\n",
       "      <td>23.081236</td>\n",
       "      <td>25.158322</td>\n",
       "      <td>32.695931</td>\n",
       "      <td>27.109244</td>\n",
       "      <td>7.385259</td>\n",
       "      <td>19.087561</td>\n",
       "      <td>21.388968</td>\n",
       "      <td>16.699933</td>\n",
       "      <td>21.137700</td>\n",
       "      <td>6.644018</td>\n",
       "      <td>146.143064</td>\n",
       "    </tr>\n",
       "    <tr>\n",
       "      <th>min</th>\n",
       "      <td>0.040000</td>\n",
       "      <td>0.010000</td>\n",
       "      <td>0.020000</td>\n",
       "      <td>0.010000</td>\n",
       "      <td>0.000000</td>\n",
       "      <td>0.010000</td>\n",
       "      <td>0.000000</td>\n",
       "      <td>0.010000</td>\n",
       "      <td>0.010000</td>\n",
       "      <td>0.000000</td>\n",
       "      <td>0.000000</td>\n",
       "      <td>0.000000</td>\n",
       "      <td>13.000000</td>\n",
       "    </tr>\n",
       "    <tr>\n",
       "      <th>25%</th>\n",
       "      <td>31.450000</td>\n",
       "      <td>60.990000</td>\n",
       "      <td>5.930000</td>\n",
       "      <td>11.850000</td>\n",
       "      <td>13.110000</td>\n",
       "      <td>9.197500</td>\n",
       "      <td>0.530000</td>\n",
       "      <td>5.560000</td>\n",
       "      <td>19.010000</td>\n",
       "      <td>0.130000</td>\n",
       "      <td>0.670000</td>\n",
       "      <td>0.120000</td>\n",
       "      <td>85.000000</td>\n",
       "    </tr>\n",
       "    <tr>\n",
       "      <th>50%</th>\n",
       "      <td>52.220000</td>\n",
       "      <td>100.950000</td>\n",
       "      <td>10.150000</td>\n",
       "      <td>21.830000</td>\n",
       "      <td>24.300000</td>\n",
       "      <td>17.820000</td>\n",
       "      <td>0.930000</td>\n",
       "      <td>9.120000</td>\n",
       "      <td>30.890000</td>\n",
       "      <td>0.980000</td>\n",
       "      <td>2.850000</td>\n",
       "      <td>0.820000</td>\n",
       "      <td>124.000000</td>\n",
       "    </tr>\n",
       "    <tr>\n",
       "      <th>75%</th>\n",
       "      <td>85.655000</td>\n",
       "      <td>158.460000</td>\n",
       "      <td>20.830000</td>\n",
       "      <td>37.890000</td>\n",
       "      <td>42.102500</td>\n",
       "      <td>32.600000</td>\n",
       "      <td>1.530000</td>\n",
       "      <td>15.595000</td>\n",
       "      <td>45.370000</td>\n",
       "      <td>2.850000</td>\n",
       "      <td>8.830000</td>\n",
       "      <td>3.232500</td>\n",
       "      <td>226.000000</td>\n",
       "    </tr>\n",
       "    <tr>\n",
       "      <th>max</th>\n",
       "      <td>949.990000</td>\n",
       "      <td>1000.000000</td>\n",
       "      <td>351.300000</td>\n",
       "      <td>362.210000</td>\n",
       "      <td>467.630000</td>\n",
       "      <td>352.890000</td>\n",
       "      <td>175.810000</td>\n",
       "      <td>193.860000</td>\n",
       "      <td>257.730000</td>\n",
       "      <td>455.030000</td>\n",
       "      <td>454.850000</td>\n",
       "      <td>170.370000</td>\n",
       "      <td>2049.000000</td>\n",
       "    </tr>\n",
       "  </tbody>\n",
       "</table>\n",
       "</div>"
      ],
      "text/plain": [
       "              PM2.5          PM10            NO           NO2           NOx  \\\n",
       "count  21930.000000  15453.000000  22986.000000  23002.000000  22176.000000   \n",
       "mean      71.828907    125.492380     18.232528     29.009102     33.657667   \n",
       "std       67.161387     94.179918     23.081236     25.158322     32.695931   \n",
       "min        0.040000      0.010000      0.020000      0.010000      0.000000   \n",
       "25%       31.450000     60.990000      5.930000     11.850000     13.110000   \n",
       "50%       52.220000    100.950000     10.150000     21.830000     24.300000   \n",
       "75%       85.655000    158.460000     20.830000     37.890000     42.102500   \n",
       "max      949.990000   1000.000000    351.300000    362.210000    467.630000   \n",
       "\n",
       "                NH3            CO           SO2            O3       Benzene  \\\n",
       "count  16372.000000  24258.000000  22675.000000  22559.000000  20932.000000   \n",
       "mean      25.336162      2.446235     14.988734     34.374248      3.300132   \n",
       "std       27.109244      7.385259     19.087561     21.388968     16.699933   \n",
       "min        0.010000      0.000000      0.010000      0.010000      0.000000   \n",
       "25%        9.197500      0.530000      5.560000     19.010000      0.130000   \n",
       "50%       17.820000      0.930000      9.120000     30.890000      0.980000   \n",
       "75%       32.600000      1.530000     15.595000     45.370000      2.850000   \n",
       "max      352.890000    175.810000    193.860000    257.730000    455.030000   \n",
       "\n",
       "            Toluene       Xylene           AQI  \n",
       "count  18664.000000  9412.000000  21937.000000  \n",
       "mean       9.029794     3.155895    175.840908  \n",
       "std       21.137700     6.644018    146.143064  \n",
       "min        0.000000     0.000000     13.000000  \n",
       "25%        0.670000     0.120000     85.000000  \n",
       "50%        2.850000     0.820000    124.000000  \n",
       "75%        8.830000     3.232500    226.000000  \n",
       "max      454.850000   170.370000   2049.000000  "
      ]
     },
     "execution_count": 5,
     "metadata": {},
     "output_type": "execute_result"
    }
   ],
   "source": [
    "df.info()\n",
    "df.describe()"
   ]
  },
  {
   "cell_type": "code",
   "execution_count": 6,
   "metadata": {},
   "outputs": [
    {
     "data": {
      "text/html": [
       "<div>\n",
       "<style scoped>\n",
       "    .dataframe tbody tr th:only-of-type {\n",
       "        vertical-align: middle;\n",
       "    }\n",
       "\n",
       "    .dataframe tbody tr th {\n",
       "        vertical-align: top;\n",
       "    }\n",
       "\n",
       "    .dataframe thead th {\n",
       "        text-align: right;\n",
       "    }\n",
       "</style>\n",
       "<table border=\"1\" class=\"dataframe\">\n",
       "  <thead>\n",
       "    <tr style=\"text-align: right;\">\n",
       "      <th></th>\n",
       "      <th>City</th>\n",
       "      <th>Date</th>\n",
       "      <th>PM2.5</th>\n",
       "      <th>PM10</th>\n",
       "      <th>NO</th>\n",
       "      <th>NO2</th>\n",
       "      <th>NOx</th>\n",
       "      <th>NH3</th>\n",
       "      <th>CO</th>\n",
       "      <th>SO2</th>\n",
       "      <th>O3</th>\n",
       "      <th>Benzene</th>\n",
       "      <th>Toluene</th>\n",
       "      <th>Xylene</th>\n",
       "      <th>AQI</th>\n",
       "      <th>AQI_Bucket</th>\n",
       "    </tr>\n",
       "  </thead>\n",
       "  <tbody>\n",
       "    <tr>\n",
       "      <th>365</th>\n",
       "      <td>Ahmedabad</td>\n",
       "      <td>2016-01-01</td>\n",
       "      <td>NaN</td>\n",
       "      <td>NaN</td>\n",
       "      <td>NaN</td>\n",
       "      <td>NaN</td>\n",
       "      <td>NaN</td>\n",
       "      <td>NaN</td>\n",
       "      <td>NaN</td>\n",
       "      <td>NaN</td>\n",
       "      <td>NaN</td>\n",
       "      <td>NaN</td>\n",
       "      <td>NaN</td>\n",
       "      <td>NaN</td>\n",
       "      <td>NaN</td>\n",
       "      <td>NaN</td>\n",
       "    </tr>\n",
       "    <tr>\n",
       "      <th>366</th>\n",
       "      <td>Ahmedabad</td>\n",
       "      <td>2016-01-02</td>\n",
       "      <td>NaN</td>\n",
       "      <td>NaN</td>\n",
       "      <td>NaN</td>\n",
       "      <td>NaN</td>\n",
       "      <td>NaN</td>\n",
       "      <td>NaN</td>\n",
       "      <td>NaN</td>\n",
       "      <td>NaN</td>\n",
       "      <td>NaN</td>\n",
       "      <td>NaN</td>\n",
       "      <td>NaN</td>\n",
       "      <td>NaN</td>\n",
       "      <td>NaN</td>\n",
       "      <td>NaN</td>\n",
       "    </tr>\n",
       "    <tr>\n",
       "      <th>367</th>\n",
       "      <td>Ahmedabad</td>\n",
       "      <td>2016-01-03</td>\n",
       "      <td>NaN</td>\n",
       "      <td>NaN</td>\n",
       "      <td>NaN</td>\n",
       "      <td>NaN</td>\n",
       "      <td>NaN</td>\n",
       "      <td>NaN</td>\n",
       "      <td>NaN</td>\n",
       "      <td>NaN</td>\n",
       "      <td>NaN</td>\n",
       "      <td>NaN</td>\n",
       "      <td>NaN</td>\n",
       "      <td>NaN</td>\n",
       "      <td>NaN</td>\n",
       "      <td>NaN</td>\n",
       "    </tr>\n",
       "    <tr>\n",
       "      <th>368</th>\n",
       "      <td>Ahmedabad</td>\n",
       "      <td>2016-01-04</td>\n",
       "      <td>NaN</td>\n",
       "      <td>NaN</td>\n",
       "      <td>NaN</td>\n",
       "      <td>NaN</td>\n",
       "      <td>NaN</td>\n",
       "      <td>NaN</td>\n",
       "      <td>NaN</td>\n",
       "      <td>NaN</td>\n",
       "      <td>NaN</td>\n",
       "      <td>NaN</td>\n",
       "      <td>NaN</td>\n",
       "      <td>NaN</td>\n",
       "      <td>NaN</td>\n",
       "      <td>NaN</td>\n",
       "    </tr>\n",
       "    <tr>\n",
       "      <th>369</th>\n",
       "      <td>Ahmedabad</td>\n",
       "      <td>2016-01-05</td>\n",
       "      <td>NaN</td>\n",
       "      <td>NaN</td>\n",
       "      <td>NaN</td>\n",
       "      <td>NaN</td>\n",
       "      <td>NaN</td>\n",
       "      <td>NaN</td>\n",
       "      <td>NaN</td>\n",
       "      <td>NaN</td>\n",
       "      <td>NaN</td>\n",
       "      <td>NaN</td>\n",
       "      <td>NaN</td>\n",
       "      <td>NaN</td>\n",
       "      <td>NaN</td>\n",
       "      <td>NaN</td>\n",
       "    </tr>\n",
       "    <tr>\n",
       "      <th>...</th>\n",
       "      <td>...</td>\n",
       "      <td>...</td>\n",
       "      <td>...</td>\n",
       "      <td>...</td>\n",
       "      <td>...</td>\n",
       "      <td>...</td>\n",
       "      <td>...</td>\n",
       "      <td>...</td>\n",
       "      <td>...</td>\n",
       "      <td>...</td>\n",
       "      <td>...</td>\n",
       "      <td>...</td>\n",
       "      <td>...</td>\n",
       "      <td>...</td>\n",
       "      <td>...</td>\n",
       "      <td>...</td>\n",
       "    </tr>\n",
       "    <tr>\n",
       "      <th>26214</th>\n",
       "      <td>Thiruvananthapuram</td>\n",
       "      <td>2020-04-27</td>\n",
       "      <td>14.13</td>\n",
       "      <td>34.27</td>\n",
       "      <td>5.60</td>\n",
       "      <td>8.98</td>\n",
       "      <td>12.48</td>\n",
       "      <td>5.65</td>\n",
       "      <td>0.49</td>\n",
       "      <td>5.50</td>\n",
       "      <td>42.41</td>\n",
       "      <td>NaN</td>\n",
       "      <td>NaN</td>\n",
       "      <td>NaN</td>\n",
       "      <td>63.0</td>\n",
       "      <td>Satisfactory</td>\n",
       "    </tr>\n",
       "    <tr>\n",
       "      <th>26215</th>\n",
       "      <td>Thiruvananthapuram</td>\n",
       "      <td>2020-04-28</td>\n",
       "      <td>23.84</td>\n",
       "      <td>44.32</td>\n",
       "      <td>6.27</td>\n",
       "      <td>10.01</td>\n",
       "      <td>13.80</td>\n",
       "      <td>5.73</td>\n",
       "      <td>0.44</td>\n",
       "      <td>5.62</td>\n",
       "      <td>44.55</td>\n",
       "      <td>NaN</td>\n",
       "      <td>NaN</td>\n",
       "      <td>NaN</td>\n",
       "      <td>60.0</td>\n",
       "      <td>Satisfactory</td>\n",
       "    </tr>\n",
       "    <tr>\n",
       "      <th>26216</th>\n",
       "      <td>Thiruvananthapuram</td>\n",
       "      <td>2020-04-29</td>\n",
       "      <td>18.54</td>\n",
       "      <td>34.48</td>\n",
       "      <td>6.17</td>\n",
       "      <td>9.67</td>\n",
       "      <td>13.35</td>\n",
       "      <td>5.93</td>\n",
       "      <td>0.51</td>\n",
       "      <td>5.52</td>\n",
       "      <td>38.97</td>\n",
       "      <td>NaN</td>\n",
       "      <td>NaN</td>\n",
       "      <td>NaN</td>\n",
       "      <td>57.0</td>\n",
       "      <td>Satisfactory</td>\n",
       "    </tr>\n",
       "    <tr>\n",
       "      <th>26217</th>\n",
       "      <td>Thiruvananthapuram</td>\n",
       "      <td>2020-04-30</td>\n",
       "      <td>20.57</td>\n",
       "      <td>48.19</td>\n",
       "      <td>6.28</td>\n",
       "      <td>9.52</td>\n",
       "      <td>13.56</td>\n",
       "      <td>5.84</td>\n",
       "      <td>0.46</td>\n",
       "      <td>5.32</td>\n",
       "      <td>39.23</td>\n",
       "      <td>NaN</td>\n",
       "      <td>NaN</td>\n",
       "      <td>NaN</td>\n",
       "      <td>57.0</td>\n",
       "      <td>Satisfactory</td>\n",
       "    </tr>\n",
       "    <tr>\n",
       "      <th>26218</th>\n",
       "      <td>Thiruvananthapuram</td>\n",
       "      <td>2020-05-01</td>\n",
       "      <td>17.58</td>\n",
       "      <td>37.49</td>\n",
       "      <td>2.56</td>\n",
       "      <td>7.84</td>\n",
       "      <td>9.34</td>\n",
       "      <td>4.85</td>\n",
       "      <td>0.45</td>\n",
       "      <td>7.10</td>\n",
       "      <td>31.16</td>\n",
       "      <td>NaN</td>\n",
       "      <td>NaN</td>\n",
       "      <td>NaN</td>\n",
       "      <td>82.0</td>\n",
       "      <td>Satisfactory</td>\n",
       "    </tr>\n",
       "  </tbody>\n",
       "</table>\n",
       "<p>23418 rows × 16 columns</p>\n",
       "</div>"
      ],
      "text/plain": [
       "                     City       Date  PM2.5   PM10    NO    NO2    NOx   NH3  \\\n",
       "365             Ahmedabad 2016-01-01    NaN    NaN   NaN    NaN    NaN   NaN   \n",
       "366             Ahmedabad 2016-01-02    NaN    NaN   NaN    NaN    NaN   NaN   \n",
       "367             Ahmedabad 2016-01-03    NaN    NaN   NaN    NaN    NaN   NaN   \n",
       "368             Ahmedabad 2016-01-04    NaN    NaN   NaN    NaN    NaN   NaN   \n",
       "369             Ahmedabad 2016-01-05    NaN    NaN   NaN    NaN    NaN   NaN   \n",
       "...                   ...        ...    ...    ...   ...    ...    ...   ...   \n",
       "26214  Thiruvananthapuram 2020-04-27  14.13  34.27  5.60   8.98  12.48  5.65   \n",
       "26215  Thiruvananthapuram 2020-04-28  23.84  44.32  6.27  10.01  13.80  5.73   \n",
       "26216  Thiruvananthapuram 2020-04-29  18.54  34.48  6.17   9.67  13.35  5.93   \n",
       "26217  Thiruvananthapuram 2020-04-30  20.57  48.19  6.28   9.52  13.56  5.84   \n",
       "26218  Thiruvananthapuram 2020-05-01  17.58  37.49  2.56   7.84   9.34  4.85   \n",
       "\n",
       "         CO   SO2     O3  Benzene  Toluene  Xylene   AQI    AQI_Bucket  \n",
       "365     NaN   NaN    NaN      NaN      NaN     NaN   NaN           NaN  \n",
       "366     NaN   NaN    NaN      NaN      NaN     NaN   NaN           NaN  \n",
       "367     NaN   NaN    NaN      NaN      NaN     NaN   NaN           NaN  \n",
       "368     NaN   NaN    NaN      NaN      NaN     NaN   NaN           NaN  \n",
       "369     NaN   NaN    NaN      NaN      NaN     NaN   NaN           NaN  \n",
       "...     ...   ...    ...      ...      ...     ...   ...           ...  \n",
       "26214  0.49  5.50  42.41      NaN      NaN     NaN  63.0  Satisfactory  \n",
       "26215  0.44  5.62  44.55      NaN      NaN     NaN  60.0  Satisfactory  \n",
       "26216  0.51  5.52  38.97      NaN      NaN     NaN  57.0  Satisfactory  \n",
       "26217  0.46  5.32  39.23      NaN      NaN     NaN  57.0  Satisfactory  \n",
       "26218  0.45  7.10  31.16      NaN      NaN     NaN  82.0  Satisfactory  \n",
       "\n",
       "[23418 rows x 16 columns]"
      ]
     },
     "execution_count": 6,
     "metadata": {},
     "output_type": "execute_result"
    }
   ],
   "source": [
    "df = df[(df['Date'].dt.year != 2015)]\n",
    "df"
   ]
  },
  {
   "cell_type": "code",
   "execution_count": 7,
   "metadata": {},
   "outputs": [],
   "source": [
    "df.dropna(how = 'all',subset=['PM2.5','PM10','NO','NO2','NOx','NH3','CO','SO2','O3','Benzene','Toluene','Xylene','AQI','AQI_Bucket'], axis=0, inplace=True)"
   ]
  },
  {
   "cell_type": "code",
   "execution_count": 8,
   "metadata": {},
   "outputs": [
    {
     "data": {
      "text/plain": [
       "Delhi                 1583\n",
       "Hyderabad             1582\n",
       "Bengaluru             1582\n",
       "Chennai               1565\n",
       "Lucknow               1565\n",
       "Mumbai                1563\n",
       "Gurugram              1532\n",
       "Patna                 1441\n",
       "Ahmedabad             1192\n",
       "Amritsar              1134\n",
       "Jaipur                1047\n",
       "Thiruvananthapuram    1038\n",
       "Jorapokhar             886\n",
       "Amaravati              836\n",
       "Talcher                760\n",
       "Brajrajnagar           757\n",
       "Kolkata                753\n",
       "Guwahati               441\n",
       "Chandigarh             243\n",
       "Bhopal                 219\n",
       "Shillong               217\n",
       "Kochi                  101\n",
       "Ernakulam              100\n",
       "Aizawl                  52\n",
       "Name: City, dtype: int64"
      ]
     },
     "execution_count": 8,
     "metadata": {},
     "output_type": "execute_result"
    }
   ],
   "source": [
    "df['City'].value_counts()"
   ]
  },
  {
   "cell_type": "code",
   "execution_count": 9,
   "metadata": {},
   "outputs": [
    {
     "data": {
      "text/html": [
       "<div>\n",
       "<style scoped>\n",
       "    .dataframe tbody tr th:only-of-type {\n",
       "        vertical-align: middle;\n",
       "    }\n",
       "\n",
       "    .dataframe tbody tr th {\n",
       "        vertical-align: top;\n",
       "    }\n",
       "\n",
       "    .dataframe thead th {\n",
       "        text-align: right;\n",
       "    }\n",
       "</style>\n",
       "<table border=\"1\" class=\"dataframe\">\n",
       "  <thead>\n",
       "    <tr style=\"text-align: right;\">\n",
       "      <th></th>\n",
       "      <th>City</th>\n",
       "      <th>Date</th>\n",
       "      <th>PM2.5</th>\n",
       "      <th>PM10</th>\n",
       "      <th>NO</th>\n",
       "      <th>NO2</th>\n",
       "      <th>NOx</th>\n",
       "      <th>NH3</th>\n",
       "      <th>CO</th>\n",
       "      <th>SO2</th>\n",
       "      <th>O3</th>\n",
       "      <th>Benzene</th>\n",
       "      <th>Toluene</th>\n",
       "      <th>Xylene</th>\n",
       "      <th>AQI</th>\n",
       "      <th>AQI_Bucket</th>\n",
       "    </tr>\n",
       "  </thead>\n",
       "  <tbody>\n",
       "    <tr>\n",
       "      <th>543</th>\n",
       "      <td>Ahmedabad</td>\n",
       "      <td>2016-06-27</td>\n",
       "      <td>33.02</td>\n",
       "      <td>NaN</td>\n",
       "      <td>11.69</td>\n",
       "      <td>28.91</td>\n",
       "      <td>40.60</td>\n",
       "      <td>NaN</td>\n",
       "      <td>11.69</td>\n",
       "      <td>1.38</td>\n",
       "      <td>36.04</td>\n",
       "      <td>0.0</td>\n",
       "      <td>0.0</td>\n",
       "      <td>0.0</td>\n",
       "      <td>NaN</td>\n",
       "      <td>NaN</td>\n",
       "    </tr>\n",
       "    <tr>\n",
       "      <th>544</th>\n",
       "      <td>Ahmedabad</td>\n",
       "      <td>2016-06-28</td>\n",
       "      <td>27.29</td>\n",
       "      <td>NaN</td>\n",
       "      <td>9.81</td>\n",
       "      <td>28.12</td>\n",
       "      <td>37.93</td>\n",
       "      <td>NaN</td>\n",
       "      <td>9.81</td>\n",
       "      <td>1.61</td>\n",
       "      <td>39.26</td>\n",
       "      <td>0.0</td>\n",
       "      <td>0.0</td>\n",
       "      <td>0.0</td>\n",
       "      <td>272.0</td>\n",
       "      <td>Poor</td>\n",
       "    </tr>\n",
       "    <tr>\n",
       "      <th>545</th>\n",
       "      <td>Ahmedabad</td>\n",
       "      <td>2016-06-29</td>\n",
       "      <td>41.43</td>\n",
       "      <td>NaN</td>\n",
       "      <td>10.45</td>\n",
       "      <td>31.82</td>\n",
       "      <td>42.09</td>\n",
       "      <td>NaN</td>\n",
       "      <td>10.45</td>\n",
       "      <td>1.70</td>\n",
       "      <td>28.05</td>\n",
       "      <td>0.0</td>\n",
       "      <td>0.0</td>\n",
       "      <td>0.0</td>\n",
       "      <td>253.0</td>\n",
       "      <td>Poor</td>\n",
       "    </tr>\n",
       "    <tr>\n",
       "      <th>546</th>\n",
       "      <td>Ahmedabad</td>\n",
       "      <td>2016-06-30</td>\n",
       "      <td>30.16</td>\n",
       "      <td>NaN</td>\n",
       "      <td>10.41</td>\n",
       "      <td>15.99</td>\n",
       "      <td>26.40</td>\n",
       "      <td>NaN</td>\n",
       "      <td>10.41</td>\n",
       "      <td>1.60</td>\n",
       "      <td>23.76</td>\n",
       "      <td>0.0</td>\n",
       "      <td>0.0</td>\n",
       "      <td>0.0</td>\n",
       "      <td>256.0</td>\n",
       "      <td>Poor</td>\n",
       "    </tr>\n",
       "    <tr>\n",
       "      <th>547</th>\n",
       "      <td>Ahmedabad</td>\n",
       "      <td>2016-07-01</td>\n",
       "      <td>29.42</td>\n",
       "      <td>NaN</td>\n",
       "      <td>9.39</td>\n",
       "      <td>10.11</td>\n",
       "      <td>19.50</td>\n",
       "      <td>NaN</td>\n",
       "      <td>9.39</td>\n",
       "      <td>1.57</td>\n",
       "      <td>16.42</td>\n",
       "      <td>0.0</td>\n",
       "      <td>0.0</td>\n",
       "      <td>0.0</td>\n",
       "      <td>257.0</td>\n",
       "      <td>Poor</td>\n",
       "    </tr>\n",
       "  </tbody>\n",
       "</table>\n",
       "</div>"
      ],
      "text/plain": [
       "          City       Date  PM2.5  PM10     NO    NO2    NOx  NH3     CO   SO2  \\\n",
       "543  Ahmedabad 2016-06-27  33.02   NaN  11.69  28.91  40.60  NaN  11.69  1.38   \n",
       "544  Ahmedabad 2016-06-28  27.29   NaN   9.81  28.12  37.93  NaN   9.81  1.61   \n",
       "545  Ahmedabad 2016-06-29  41.43   NaN  10.45  31.82  42.09  NaN  10.45  1.70   \n",
       "546  Ahmedabad 2016-06-30  30.16   NaN  10.41  15.99  26.40  NaN  10.41  1.60   \n",
       "547  Ahmedabad 2016-07-01  29.42   NaN   9.39  10.11  19.50  NaN   9.39  1.57   \n",
       "\n",
       "        O3  Benzene  Toluene  Xylene    AQI AQI_Bucket  \n",
       "543  36.04      0.0      0.0     0.0    NaN        NaN  \n",
       "544  39.26      0.0      0.0     0.0  272.0       Poor  \n",
       "545  28.05      0.0      0.0     0.0  253.0       Poor  \n",
       "546  23.76      0.0      0.0     0.0  256.0       Poor  \n",
       "547  16.42      0.0      0.0     0.0  257.0       Poor  "
      ]
     },
     "execution_count": 9,
     "metadata": {},
     "output_type": "execute_result"
    }
   ],
   "source": [
    "df.head()"
   ]
  },
  {
   "cell_type": "code",
   "execution_count": 10,
   "metadata": {},
   "outputs": [],
   "source": [
    "df.to_csv('Oxides.csv')"
   ]
  },
  {
   "cell_type": "code",
   "execution_count": 11,
   "metadata": {},
   "outputs": [],
   "source": [
    "df['BTX'] = df['Benzene'] + df['Toluene'] + df['Xylene']"
   ]
  },
  {
   "cell_type": "code",
   "execution_count": 12,
   "metadata": {},
   "outputs": [],
   "source": [
    "df.drop(['AQI_Bucket','Toluene','Benzene','Xylene'],axis=1,inplace=True)"
   ]
  },
  {
   "cell_type": "code",
   "execution_count": 13,
   "metadata": {},
   "outputs": [
    {
     "data": {
      "text/html": [
       "<div>\n",
       "<style scoped>\n",
       "    .dataframe tbody tr th:only-of-type {\n",
       "        vertical-align: middle;\n",
       "    }\n",
       "\n",
       "    .dataframe tbody tr th {\n",
       "        vertical-align: top;\n",
       "    }\n",
       "\n",
       "    .dataframe thead th {\n",
       "        text-align: right;\n",
       "    }\n",
       "</style>\n",
       "<table border=\"1\" class=\"dataframe\">\n",
       "  <thead>\n",
       "    <tr style=\"text-align: right;\">\n",
       "      <th></th>\n",
       "      <th>PM2.5</th>\n",
       "      <th>PM10</th>\n",
       "      <th>NO</th>\n",
       "      <th>NO2</th>\n",
       "      <th>NOx</th>\n",
       "      <th>NH3</th>\n",
       "      <th>CO</th>\n",
       "      <th>SO2</th>\n",
       "      <th>O3</th>\n",
       "      <th>AQI</th>\n",
       "      <th>BTX</th>\n",
       "    </tr>\n",
       "    <tr>\n",
       "      <th>Year</th>\n",
       "      <th></th>\n",
       "      <th></th>\n",
       "      <th></th>\n",
       "      <th></th>\n",
       "      <th></th>\n",
       "      <th></th>\n",
       "      <th></th>\n",
       "      <th></th>\n",
       "      <th></th>\n",
       "      <th></th>\n",
       "      <th></th>\n",
       "    </tr>\n",
       "  </thead>\n",
       "  <tbody>\n",
       "    <tr>\n",
       "      <th>2016</th>\n",
       "      <td>235899.47</td>\n",
       "      <td>152692.01</td>\n",
       "      <td>48913.29</td>\n",
       "      <td>76408.59</td>\n",
       "      <td>80350.51</td>\n",
       "      <td>50192.19</td>\n",
       "      <td>5350.77</td>\n",
       "      <td>23598.17</td>\n",
       "      <td>91940.76</td>\n",
       "      <td>489903.0</td>\n",
       "      <td>3202.81</td>\n",
       "    </tr>\n",
       "    <tr>\n",
       "      <th>2017</th>\n",
       "      <td>273389.98</td>\n",
       "      <td>242560.12</td>\n",
       "      <td>58266.98</td>\n",
       "      <td>104201.06</td>\n",
       "      <td>61570.87</td>\n",
       "      <td>62112.39</td>\n",
       "      <td>4942.63</td>\n",
       "      <td>38810.08</td>\n",
       "      <td>105158.95</td>\n",
       "      <td>564131.0</td>\n",
       "      <td>14869.13</td>\n",
       "    </tr>\n",
       "    <tr>\n",
       "      <th>2018</th>\n",
       "      <td>365099.97</td>\n",
       "      <td>528002.93</td>\n",
       "      <td>105601.09</td>\n",
       "      <td>183283.46</td>\n",
       "      <td>203709.33</td>\n",
       "      <td>94777.91</td>\n",
       "      <td>17907.78</td>\n",
       "      <td>100273.57</td>\n",
       "      <td>188798.35</td>\n",
       "      <td>1005646.0</td>\n",
       "      <td>57570.54</td>\n",
       "    </tr>\n",
       "    <tr>\n",
       "      <th>2019</th>\n",
       "      <td>398082.35</td>\n",
       "      <td>646972.40</td>\n",
       "      <td>111687.92</td>\n",
       "      <td>188164.29</td>\n",
       "      <td>215832.12</td>\n",
       "      <td>107020.46</td>\n",
       "      <td>15781.06</td>\n",
       "      <td>109865.42</td>\n",
       "      <td>221294.58</td>\n",
       "      <td>1050165.0</td>\n",
       "      <td>62205.83</td>\n",
       "    </tr>\n",
       "    <tr>\n",
       "      <th>2020</th>\n",
       "      <td>148087.29</td>\n",
       "      <td>273764.99</td>\n",
       "      <td>55540.60</td>\n",
       "      <td>59279.70</td>\n",
       "      <td>88185.92</td>\n",
       "      <td>55934.53</td>\n",
       "      <td>3941.15</td>\n",
       "      <td>36011.96</td>\n",
       "      <td>91223.62</td>\n",
       "      <td>359407.0</td>\n",
       "      <td>17401.99</td>\n",
       "    </tr>\n",
       "  </tbody>\n",
       "</table>\n",
       "</div>"
      ],
      "text/plain": [
       "          PM2.5       PM10         NO        NO2        NOx        NH3  \\\n",
       "Year                                                                     \n",
       "2016  235899.47  152692.01   48913.29   76408.59   80350.51   50192.19   \n",
       "2017  273389.98  242560.12   58266.98  104201.06   61570.87   62112.39   \n",
       "2018  365099.97  528002.93  105601.09  183283.46  203709.33   94777.91   \n",
       "2019  398082.35  646972.40  111687.92  188164.29  215832.12  107020.46   \n",
       "2020  148087.29  273764.99   55540.60   59279.70   88185.92   55934.53   \n",
       "\n",
       "            CO        SO2         O3        AQI       BTX  \n",
       "Year                                                       \n",
       "2016   5350.77   23598.17   91940.76   489903.0   3202.81  \n",
       "2017   4942.63   38810.08  105158.95   564131.0  14869.13  \n",
       "2018  17907.78  100273.57  188798.35  1005646.0  57570.54  \n",
       "2019  15781.06  109865.42  221294.58  1050165.0  62205.83  \n",
       "2020   3941.15   36011.96   91223.62   359407.0  17401.99  "
      ]
     },
     "execution_count": 13,
     "metadata": {},
     "output_type": "execute_result"
    }
   ],
   "source": [
    "df['Year'] = df['Date'].dt.year\n",
    "df = df.groupby(['Year']).sum()\n",
    "df.columns\n",
    "df"
   ]
  },
  {
   "cell_type": "code",
   "execution_count": 14,
   "metadata": {},
   "outputs": [],
   "source": [
    "df.sort_index(axis=0,inplace=True)"
   ]
  },
  {
   "cell_type": "code",
   "execution_count": 15,
   "metadata": {},
   "outputs": [],
   "source": [
    "df.reset_index(inplace=True)"
   ]
  },
  {
   "cell_type": "markdown",
   "metadata": {},
   "source": [
    "# Perform Data Visualization to generate insights."
   ]
  },
  {
   "cell_type": "markdown",
   "metadata": {},
   "source": [
    "## PM2.5 in India (2016-2020)"
   ]
  },
  {
   "cell_type": "code",
   "execution_count": 16,
   "metadata": {},
   "outputs": [
    {
     "data": {
      "image/png": "[encoded data removed]",
      "text/plain": [
       "<Figure size 432x288 with 1 Axes>"
      ]
     },
     "metadata": {
      "needs_background": "light"
     },
     "output_type": "display_data"
    }
   ],
   "source": [
    "x = df['Year']\n",
    "y = df['PM2.5']\n",
    "mp.grid(which='both', axis='both',linewidth=0.3)\n",
    "mp.bar(x,y,color='r',width = 0.3,align='center')\n",
    "mp.text(2019.6, 160000, 'Coronavirus\\nPandemic',fontsize=9)\n",
    "mp.xlabel('Years',fontsize='large', fontweight='bold')\n",
    "mp.ylabel('ug / m3',fontsize='large', fontweight='bold')\n",
    "mp.title('PM2.5 in India (Pre-Corona)',fontsize='large', fontweight='bold')\n",
    "mp.show()"
   ]
  },
  {
   "cell_type": "markdown",
   "metadata": {},
   "source": [
    "## PM10 in India (2016-2020)"
   ]
  },
  {
   "cell_type": "code",
   "execution_count": 17,
   "metadata": {},
   "outputs": [
    {
     "data": {
      "image/png": "[encoded data removed]",
      "text/plain": [
       "<Figure size 432x288 with 1 Axes>"
      ]
     },
     "metadata": {
      "needs_background": "light"
     },
     "output_type": "display_data"
    }
   ],
   "source": [
    "x = df['Year']\n",
    "y = df['PM10']\n",
    "mp.grid(which='both', axis='both',linewidth=0.3)\n",
    "mp.bar(x,y,color='forestgreen',width=0.3,align='center')\n",
    "mp.text(2019.6, 300000, 'Coronavirus\\nPandemic',fontsize=9)\n",
    "mp.xlabel('Years',fontsize='large', fontweight='bold')\n",
    "mp.ylabel('ug / m3',fontsize='large', fontweight='bold')\n",
    "mp.title('PM10 in India (Pre-Corona)',fontsize='large', fontweight='bold')\n",
    "mp.show()"
   ]
  },
  {
   "cell_type": "markdown",
   "metadata": {},
   "source": [
    "## NO in India (2016-2020)"
   ]
  },
  {
   "cell_type": "code",
   "execution_count": 18,
   "metadata": {},
   "outputs": [
    {
     "data": {
      "image/png": "[encoded data removed]",
      "text/plain": [
       "<Figure size 432x288 with 1 Axes>"
      ]
     },
     "metadata": {
      "needs_background": "light"
     },
     "output_type": "display_data"
    }
   ],
   "source": [
    "x = df['Year']\n",
    "y = df['NO']\n",
    "mp.grid(which='both', axis='both',linewidth=0.3)\n",
    "mp.bar(x,y,color='dodgerblue',width=0.3,align='center')\n",
    "mp.text(2019.6, 60000, 'Coronavirus\\nPandemic',fontsize=9)\n",
    "mp.xlabel('Years',fontsize='large', fontweight='bold')\n",
    "mp.ylabel('ug / m3',fontsize='large', fontweight='bold')\n",
    "mp.title('NO in India (Pre-Corona)',fontsize='large', fontweight='bold')\n",
    "mp.show()\n"
   ]
  },
  {
   "cell_type": "markdown",
   "metadata": {},
   "source": [
    "## NO2 in India (2016-2020)"
   ]
  },
  {
   "cell_type": "code",
   "execution_count": 19,
   "metadata": {},
   "outputs": [
    {
     "data": {
      "image/png": "[encoded data removed]",
      "text/plain": [
       "<Figure size 432x288 with 1 Axes>"
      ]
     },
     "metadata": {
      "needs_background": "light"
     },
     "output_type": "display_data"
    }
   ],
   "source": [
    "x = df['Year']\n",
    "y = df['NO2']\n",
    "mp.grid(which='both', axis='both',linewidth=0.3)\n",
    "mp.bar(x,y,color='purple',width=0.3,align='center')\n",
    "mp.text(2019.6, 63000, 'Coronavirus\\nPandemic',fontsize=9)\n",
    "mp.xlabel('Years',fontsize='large', fontweight='bold')\n",
    "mp.ylabel('ug / m3',fontsize='large', fontweight='bold')\n",
    "mp.title('NO2 in India (Pre-Corona)',fontsize='large', fontweight='bold')\n",
    "mp.show()"
   ]
  },
  {
   "cell_type": "markdown",
   "metadata": {},
   "source": [
    "## NOx in India (2016-2020)"
   ]
  },
  {
   "cell_type": "code",
   "execution_count": 20,
   "metadata": {},
   "outputs": [
    {
     "data": {
      "image/png": "[encoded data removed]",
      "text/plain": [
       "<Figure size 432x288 with 1 Axes>"
      ]
     },
     "metadata": {
      "needs_background": "light"
     },
     "output_type": "display_data"
    }
   ],
   "source": [
    "x = df['Year']\n",
    "y = df['NOx']\n",
    "mp.grid(which='both', axis='both',linewidth=0.3)\n",
    "mp.bar(x,y,color='orange',width=0.3,align='center')\n",
    "mp.text(2019.6, 100000, 'Coronavirus\\nPandemic',fontsize=9)\n",
    "mp.xlabel('Years',fontsize='large', fontweight='bold')\n",
    "mp.ylabel('ug / m3',fontsize='large', fontweight='bold')\n",
    "mp.title('NOx in India (Pre-Corona)',fontsize='large', fontweight='bold')\n",
    "mp.show()"
   ]
  },
  {
   "cell_type": "markdown",
   "metadata": {},
   "source": [
    "## NH3 in India (2016-2020)"
   ]
  },
  {
   "cell_type": "code",
   "execution_count": 21,
   "metadata": {},
   "outputs": [
    {
     "data": {
      "image/png": "[encoded data removed]",
      "text/plain": [
       "<Figure size 432x288 with 1 Axes>"
      ]
     },
     "metadata": {
      "needs_background": "light"
     },
     "output_type": "display_data"
    }
   ],
   "source": [
    "x = df['Year']\n",
    "y = df['NH3']\n",
    "mp.grid(which='both', axis='both',linewidth=0.3)\n",
    "mp.bar(x,y,color='darkcyan',width=0.3,align='center')\n",
    "mp.text(2019.6, 60000, 'Coronavirus\\nPandemic',fontsize=9)\n",
    "mp.xlabel('Years',fontsize='large', fontweight='bold')\n",
    "mp.ylabel('ug / m3',fontsize='large', fontweight='bold')\n",
    "mp.title('NH3 in India (Pre-Corona)',fontsize='large', fontweight='bold')\n",
    "mp.show()"
   ]
  },
  {
   "cell_type": "markdown",
   "metadata": {},
   "source": [
    "## CO in India (2016-2020)"
   ]
  },
  {
   "cell_type": "code",
   "execution_count": 22,
   "metadata": {},
   "outputs": [
    {
     "data": {
      "image/png": "[encoded data removed]",
      "text/plain": [
       "<Figure size 432x288 with 1 Axes>"
      ]
     },
     "metadata": {
      "needs_background": "light"
     },
     "output_type": "display_data"
    }
   ],
   "source": [
    "x = df['Year']\n",
    "y = df['CO']\n",
    "mp.grid(which='both', axis='both',linewidth=0.3)\n",
    "mp.bar(x,y,color='deeppink',width=0.3,align='center')\n",
    "mp.text(2019.6, 4500, 'Coronavirus\\nPandemic',fontsize=9)\n",
    "mp.xlabel('Years',fontsize='large', fontweight='bold')\n",
    "mp.ylabel('ug / m3',fontsize='large', fontweight='bold')\n",
    "mp.title('CO in India (Pre-Corona)',fontsize='large', fontweight='bold')\n",
    "mp.show()"
   ]
  },
  {
   "cell_type": "markdown",
   "metadata": {},
   "source": [
    "## SO2 in India (2016-2020)"
   ]
  },
  {
   "cell_type": "code",
   "execution_count": 23,
   "metadata": {},
   "outputs": [
    {
     "data": {
      "image/png": "[encoded data removed]",
      "text/plain": [
       "<Figure size 432x288 with 1 Axes>"
      ]
     },
     "metadata": {
      "needs_background": "light"
     },
     "output_type": "display_data"
    }
   ],
   "source": [
    "x = df['Year']\n",
    "y = df['SO2']\n",
    "mp.grid(which='both', axis='both',linewidth=0.3)\n",
    "mp.bar(x,y,color='crimson',width=0.3,align='center')\n",
    "mp.text(2019.6, 40000, 'Coronavirus\\nPandemic',fontsize=9)\n",
    "mp.xlabel('Years',fontsize='large', fontweight='bold')\n",
    "mp.ylabel('ug / m3',fontsize='large', fontweight='bold')\n",
    "mp.title('SO2 in India (Pre-Corona)',fontsize='large', fontweight='bold')\n",
    "mp.show()"
   ]
  },
  {
   "cell_type": "markdown",
   "metadata": {},
   "source": [
    "## O3 in India (2016-2020)"
   ]
  },
  {
   "cell_type": "code",
   "execution_count": 24,
   "metadata": {},
   "outputs": [
    {
     "data": {
      "image/png": "[encoded data removed]",
      "text/plain": [
       "<Figure size 432x288 with 1 Axes>"
      ]
     },
     "metadata": {
      "needs_background": "light"
     },
     "output_type": "display_data"
    }
   ],
   "source": [
    "x = df['Year']\n",
    "y = df['O3']\n",
    "mp.grid(which='both', axis='both',linewidth=0.3)\n",
    "mp.bar(x,y,color='slategrey',width=0.3,align='center')\n",
    "mp.text(2019.6, 100000, 'Coronavirus\\nPandemic',fontsize=9)\n",
    "mp.xlabel('Years',fontsize='large', fontweight='bold')\n",
    "mp.ylabel('ug / m3',fontsize='large', fontweight='bold')\n",
    "mp.title('O3 in India (Pre-Corona)',fontsize='large', fontweight='bold')\n",
    "mp.show()"
   ]
  },
  {
   "cell_type": "markdown",
   "metadata": {},
   "source": [
    "# THE END"
   ]
  },
  {
   "cell_type": "code",
   "execution_count": null,
   "metadata": {},
   "outputs": [],
   "source": []
  }
 ],
 "metadata": {
  "kernelspec": {
   "display_name": "Python 3",
   "language": "python",
   "name": "python3"
  },
  "language_info": {
   "codemirror_mode": {
    "name": "ipython",
    "version": 3
   },
   "file_extension": ".py",
   "mimetype": "text/x-python",
   "name": "python",
   "nbconvert_exporter": "python",
   "pygments_lexer": "ipython3",
   "version": "3.7.6"
  }
 },
 "nbformat": 4,
 "nbformat_minor": 4
}
